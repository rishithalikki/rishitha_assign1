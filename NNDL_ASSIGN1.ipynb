{
 "cells": [
  {
   "cell_type": "code",
   "execution_count": 2,
   "id": "5c5c42ff",
   "metadata": {},
   "outputs": [
    {
     "name": "stdout",
     "output_type": "stream",
     "text": [
      "Accuracy: 0.442\n",
      "              precision    recall  f1-score   support\n",
      "\n",
      "           1       0.43      0.71      0.54        14\n",
      "           2       0.25      0.12      0.16        17\n",
      "           3       0.20      0.50      0.29         2\n",
      "           5       0.00      0.00      0.00         3\n",
      "           6       0.75      1.00      0.86         3\n",
      "           7       1.00      0.75      0.86         4\n",
      "\n",
      "    accuracy                           0.44        43\n",
      "   macro avg       0.44      0.51      0.45        43\n",
      "weighted avg       0.40      0.44      0.39        43\n",
      "\n"
     ]
    },
    {
     "name": "stderr",
     "output_type": "stream",
     "text": [
      "C:\\Users\\shiva\\anaconda3\\lib\\site-packages\\sklearn\\metrics\\_classification.py:1318: UndefinedMetricWarning: Precision and F-score are ill-defined and being set to 0.0 in labels with no predicted samples. Use `zero_division` parameter to control this behavior.\n",
      "  _warn_prf(average, modifier, msg_start, len(result))\n",
      "C:\\Users\\shiva\\anaconda3\\lib\\site-packages\\sklearn\\metrics\\_classification.py:1318: UndefinedMetricWarning: Precision and F-score are ill-defined and being set to 0.0 in labels with no predicted samples. Use `zero_division` parameter to control this behavior.\n",
      "  _warn_prf(average, modifier, msg_start, len(result))\n",
      "C:\\Users\\shiva\\anaconda3\\lib\\site-packages\\sklearn\\metrics\\_classification.py:1318: UndefinedMetricWarning: Precision and F-score are ill-defined and being set to 0.0 in labels with no predicted samples. Use `zero_division` parameter to control this behavior.\n",
      "  _warn_prf(average, modifier, msg_start, len(result))\n"
     ]
    }
   ],
   "source": [
    "import pandas as pd\n",
    "from sklearn.model_selection import train_test_split\n",
    "from sklearn.naive_bayes import GaussianNB\n",
    "from sklearn.metrics import classification_report\n",
    "\n",
    "#using pandas importing the glass csv file \n",
    "df = pd.read_csv('C:/Users/shiva/Downloads/NNDL_Code and Data (2)/NNDL_Code and Data/glass.csv')\n",
    "X_train, X_test, Y_train, Y_test = train_test_split(df.drop(\"Type\", axis=1), df[\"Type\"], test_size=0.2)\n",
    "\n",
    "# train model using the Naive_bayes \n",
    "model = GaussianNB()\n",
    "model.fit(X_train, Y_train)\n",
    "\n",
    "# evaluating the model\n",
    "score = model.score(X_test, Y_test)\n",
    "print('Accuracy: %.3f' % score)\n",
    "\n",
    "# generating the classification report  \n",
    "y_pred = model.predict(X_test)\n",
    "report = classification_report(y_true=Y_test, y_pred=y_pred)\n",
    "print(report)"
   ]
  },
  {
   "cell_type": "code",
   "execution_count": 11,
   "id": "744ae0df",
   "metadata": {},
   "outputs": [
    {
     "name": "stdout",
     "output_type": "stream",
     "text": [
      "Accuracy: 0.628\n",
      "              precision    recall  f1-score   support\n",
      "\n",
      "           1       0.69      0.69      0.69        16\n",
      "           2       0.55      0.80      0.65        15\n",
      "           3       0.00      0.00      0.00         4\n",
      "           5       0.00      0.00      0.00         2\n",
      "           6       0.00      0.00      0.00         2\n",
      "           7       1.00      1.00      1.00         4\n",
      "\n",
      "    accuracy                           0.63        43\n",
      "   macro avg       0.37      0.41      0.39        43\n",
      "weighted avg       0.54      0.63      0.58        43\n",
      "\n"
     ]
    },
    {
     "name": "stderr",
     "output_type": "stream",
     "text": [
      "C:\\Users\\shiva\\anaconda3\\lib\\site-packages\\sklearn\\metrics\\_classification.py:1318: UndefinedMetricWarning: Precision and F-score are ill-defined and being set to 0.0 in labels with no predicted samples. Use `zero_division` parameter to control this behavior.\n",
      "  _warn_prf(average, modifier, msg_start, len(result))\n",
      "C:\\Users\\shiva\\anaconda3\\lib\\site-packages\\sklearn\\metrics\\_classification.py:1318: UndefinedMetricWarning: Precision and F-score are ill-defined and being set to 0.0 in labels with no predicted samples. Use `zero_division` parameter to control this behavior.\n",
      "  _warn_prf(average, modifier, msg_start, len(result))\n",
      "C:\\Users\\shiva\\anaconda3\\lib\\site-packages\\sklearn\\metrics\\_classification.py:1318: UndefinedMetricWarning: Precision and F-score are ill-defined and being set to 0.0 in labels with no predicted samples. Use `zero_division` parameter to control this behavior.\n",
      "  _warn_prf(average, modifier, msg_start, len(result))\n"
     ]
    }
   ],
   "source": [
    "import pandas as pd\n",
    "from sklearn.model_selection import train_test_split\n",
    "from sklearn.svm import LinearSVC\n",
    "from sklearn.metrics import classification_report\n",
    "    \n",
    "# using pandas importing the dataset\n",
    "df = pd.read_csv('C:/Users/shiva/Downloads/NNDL_Code and Data (2)/NNDL_Code and Data/glass.csv')\n",
    "X_train, X_test, Y_train, Y_test = train_test_split(df.drop(\"Type\", axis=1), df[\"Type\"], test_size=0.2)\n",
    "    \n",
    "# train model using linear support vector machine\n",
    "model = LinearSVC(dual=False)\n",
    "model.fit(X_train, Y_train)\n",
    "    \n",
    "# evaluating the model\n",
    "score = model.score(X_test, Y_test)\n",
    "print('Accuracy: %.3f' % score)\n",
    "    \n",
    "# generating the classification report \n",
    "y_pred = model.predict(X_test)\n",
    "report = classification_report(y_true=Y_test, y_pred=y_pred)\n",
    "print(report)"
   ]
  },
  {
   "cell_type": "code",
   "execution_count": 15,
   "id": "9ff73c84",
   "metadata": {},
   "outputs": [
    {
     "data": {
      "image/png": "[encoded data removed]",
      "text/plain": [
       "<Figure size 640x480 with 1 Axes>"
      ]
     },
     "metadata": {},
     "output_type": "display_data"
    }
   ],
   "source": [
    "import pandas as pd \n",
    "from sklearn.metrics import mean_squared_error\n",
    "import matplotlib.pyplot as plt\n",
    "from sklearn.linear_model import LinearRegression\n",
    "from sklearn.model_selection import train_test_split\n",
    "    \n",
    "salariesData = pd.read_csv('C:/Users/shiva/Downloads/NNDL_Code and Data (2)/NNDL_Code and Data/Salary_Data.csv') #importing data from the CSV file\n",
    "    \n",
    "#splitting the data in to training and testing\n",
    "X = salariesData.iloc[:, :-1].values \n",
    "Y= salariesData.iloc[:, 1].values\n",
    "    \n",
    "#splitting 1/3 of the data \n",
    "X_train, X_test, Y_train, Y_test = train_test_split(X, Y, test_size = 1/3, random_state = 0)\n",
    "    \n",
    "# Fitting Simple Linear Regression to the training set\n",
    "reg = LinearRegression()\n",
    "reg.fit(X_train, Y_train)\n",
    "    \n",
    "# Predicting the Test set result\n",
    "pred = reg.predict(X_test)\n",
    "    \n",
    "# Calculating the Mean_squared_error\n",
    "mse = mean_squared_error(Y_test, pred)\n",
    "\n",
    "#Visualising the Training set results and Test set results\n",
    "plt.scatter(X_train, Y_train, color = 'blue')\n",
    "plt.scatter(X_test, Y_test, color = 'red')\n",
    "plt.title('Salary Data')\n",
    "plt.xlabel('Experience (Years)')\n",
    "plt.ylabel('Salary')\n",
    "plt.show()"
   ]
  },
  {
   "cell_type": "code",
   "execution_count": null,
   "id": "89ccc455",
   "metadata": {},
   "outputs": [],
   "source": []
  }
 ],
 "metadata": {
  "kernelspec": {
   "display_name": "Python 3 (ipykernel)",
   "language": "python",
   "name": "python3"
  },
  "language_info": {
   "codemirror_mode": {
    "name": "ipython",
    "version": 3
   },
   "file_extension": ".py",
   "mimetype": "text/x-python",
   "name": "python",
   "nbconvert_exporter": "python",
   "pygments_lexer": "ipython3",
   "version": "3.9.13"
  }
 },
 "nbformat": 4,
 "nbformat_minor": 5
}
